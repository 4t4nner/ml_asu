{
  "nbformat": 4,
  "nbformat_minor": 5,
  "metadata": {
    "kernelspec": {
      "display_name": "Python 3",
      "language": "python",
      "name": "python3"
    },
    "language_info": {
      "codemirror_mode": {
        "name": "ipython",
        "version": 3
      },
      "file_extension": ".py",
      "mimetype": "text/x-python",
      "name": "python",
      "nbconvert_exporter": "python",
      "pygments_lexer": "ipython3",
      "version": "3.6.9"
    },
    "colab": {
      "provenance": []
    }
  },
  "cells": [
    {
      "cell_type": "markdown",
      "source": [
        "#Работа с модулем Numpy"
      ],
      "metadata": {
        "id": "sh3qv-vGMcbU"
      },
      "id": "sh3qv-vGMcbU"
    },
    {
      "cell_type": "code",
      "metadata": {
        "id": "medieval-detail"
      },
      "source": [
        "import numpy as np"
      ],
      "id": "medieval-detail",
      "execution_count": null,
      "outputs": []
    },
    {
      "cell_type": "markdown",
      "metadata": {
        "id": "abstract-istanbul"
      },
      "source": [
        "1. Задание\n",
        "- проверьте тип объекта python_list\n",
        "- если это не numpy ndarray, то преобразуйте к нему\n",
        "- проверьте, что на выходе вы получили объект python_list желаемого типа"
      ],
      "id": "abstract-istanbul"
    },
    {
      "cell_type": "code",
      "metadata": {
        "id": "entertaining-automation"
      },
      "source": [
        "python_list = [1, 12, 13, 45, 76, 45, 98, 0]\n",
        "print()\n",
        "python_list = \n",
        "print()"
      ],
      "id": "entertaining-automation",
      "execution_count": null,
      "outputs": []
    },
    {
      "cell_type": "markdown",
      "metadata": {
        "id": "loose-tobago"
      },
      "source": [
        "2. Задание\n",
        "- создайте одномерный массив numpy из 10 элементов заполненный числом 1.5"
      ],
      "id": "loose-tobago"
    },
    {
      "cell_type": "code",
      "metadata": {
        "id": "included-polymer"
      },
      "source": [
        "z = \n",
        "print(z)"
      ],
      "id": "included-polymer",
      "execution_count": null,
      "outputs": []
    },
    {
      "cell_type": "markdown",
      "metadata": {
        "id": "threatened-theme"
      },
      "source": [
        "3. Задание\n",
        "- создайте двумерный массив numpy из 25 элементов заполненный числом 0"
      ],
      "id": "threatened-theme"
    },
    {
      "cell_type": "code",
      "metadata": {
        "id": "alert-endorsement"
      },
      "source": [
        "z = \n",
        "print(z)"
      ],
      "id": "alert-endorsement",
      "execution_count": null,
      "outputs": []
    },
    {
      "cell_type": "markdown",
      "metadata": {
        "id": "federal-blackberry"
      },
      "source": [
        "4. Задание\n",
        "- создайте одномерный массив numpy из 12 элементов заполненный числом 1"
      ],
      "id": "federal-blackberry"
    },
    {
      "cell_type": "code",
      "metadata": {
        "id": "static-filing"
      },
      "source": [
        "ones = \n",
        "print(ones)"
      ],
      "id": "static-filing",
      "execution_count": null,
      "outputs": []
    },
    {
      "cell_type": "markdown",
      "metadata": {
        "id": "whole-chassis"
      },
      "source": [
        "5. Задание\n",
        "- преобразуйте массив из предыдущего задания к матрице 3 на 4\n",
        "- выведите размерность полученного массива"
      ],
      "id": "whole-chassis"
    },
    {
      "cell_type": "code",
      "metadata": {
        "id": "outstanding-deviation"
      },
      "source": [
        "ones = \n",
        "ones.shape"
      ],
      "id": "outstanding-deviation",
      "execution_count": null,
      "outputs": []
    },
    {
      "cell_type": "markdown",
      "metadata": {
        "id": "cubic-noise"
      },
      "source": [
        "6. Задание\n",
        "- создайте матрицу 4 на 5 заполненную числами от 1 до 20\n",
        "- замените элемент в 3-й строке 4-м столбце на (-99)"
      ],
      "id": "cubic-noise"
    },
    {
      "cell_type": "code",
      "metadata": {
        "id": "foster-memory"
      },
      "source": [
        "Z = \n",
        "print(Z)\n",
        "\n",
        "print(Z)"
      ],
      "id": "foster-memory",
      "execution_count": null,
      "outputs": []
    },
    {
      "cell_type": "markdown",
      "metadata": {
        "id": "helpful-table"
      },
      "source": [
        "7. Задание\n",
        "- создайте вектор длинной 15 со случайными целыми числами в диапазоне от -10 до 10\n",
        "- сделайте реверс вектора"
      ],
      "id": "helpful-table"
    },
    {
      "cell_type": "code",
      "metadata": {
        "id": "magnetic-leone"
      },
      "source": [
        "first = \n",
        "print(first)\n",
        "second = \n",
        "print(second)"
      ],
      "id": "magnetic-leone",
      "execution_count": null,
      "outputs": []
    },
    {
      "cell_type": "markdown",
      "metadata": {
        "id": "executed-september"
      },
      "source": [
        "8. Задание\n",
        "- создайте матрицу 5 на 5 со случайными целыми числами в диапазоне от -15 до 15\n",
        "- замените отрицательные элементы на их квадраты"
      ],
      "id": "executed-september"
    },
    {
      "cell_type": "code",
      "metadata": {
        "id": "pharmaceutical-sigma"
      },
      "source": [
        "first = \n",
        "print(first)\n",
        "\n",
        "print(first)"
      ],
      "id": "pharmaceutical-sigma",
      "execution_count": null,
      "outputs": []
    },
    {
      "cell_type": "markdown",
      "metadata": {
        "id": "floral-difference"
      },
      "source": [
        "9. Задание\n",
        "- создайте матрицу 3 на 5 со случайными целыми числами в диапазоне от -15 до 15\n",
        "- найдите максимум и минимум\n",
        "- найдите среднее по столбцам\n",
        "- найдите среднее по строкам"
      ],
      "id": "floral-difference"
    },
    {
      "cell_type": "code",
      "metadata": {
        "id": "saving-conference"
      },
      "source": [
        "first = \n",
        "print(first)\n"
      ],
      "id": "saving-conference",
      "execution_count": null,
      "outputs": []
    },
    {
      "cell_type": "markdown",
      "metadata": {
        "id": "diagnostic-departure"
      },
      "source": [
        "10. Задание\n",
        "- даны две матрицы\n",
        "- убедитесь, что их можно перемножить\n",
        "- произведите операцию умножения матриц, если это возможно, иначе выведите ошибку"
      ],
      "id": "diagnostic-departure"
    },
    {
      "cell_type": "code",
      "metadata": {
        "id": "olympic-qatar"
      },
      "source": [
        "a = np.random.randint(-10, 10, (2, 5))\n",
        "first_axis = np.random.randint(4, 6)\n",
        "b = np.random.randint(-10, 10, (first_axis, 3))\n",
        "if :\n",
        "    print(a @ b)\n",
        "else:\n",
        "    "
      ],
      "id": "olympic-qatar",
      "execution_count": null,
      "outputs": []
    },
    {
      "cell_type": "markdown",
      "metadata": {
        "id": "governmental-austin"
      },
      "source": [
        "11. Задание\n",
        "- создайте матрицу 5 на 5 заполненную равномерным распределением с диапазоном от 2 до 12\n",
        "- заполните все элементы ниже главной диагонали нулями"
      ],
      "id": "governmental-austin"
    },
    {
      "cell_type": "code",
      "metadata": {
        "id": "suffering-mauritius"
      },
      "source": [
        "mask = \n",
        "matrix = \n",
        "\n",
        "print(matrix)"
      ],
      "id": "suffering-mauritius",
      "execution_count": null,
      "outputs": []
    },
    {
      "cell_type": "markdown",
      "metadata": {
        "id": "altered-baghdad"
      },
      "source": [
        "12. Задание\n",
        "- создайте матрицу 5 на 5, заполненную нормальным распределением с параметрами: среднее 10 и стандартное отклонение 2\n",
        "- заполните все элементы на главной диагонали нулями"
      ],
      "id": "altered-baghdad"
    },
    {
      "cell_type": "code",
      "metadata": {
        "id": "refined-stuff"
      },
      "source": [
        "mask = \n",
        "matrix = \n",
        "\n",
        "print(matrix)"
      ],
      "id": "refined-stuff",
      "execution_count": null,
      "outputs": []
    },
    {
      "cell_type": "markdown",
      "metadata": {
        "id": "quiet-complement"
      },
      "source": [
        "13. Задание\n",
        "- дано два массива, проверить одинаковы ли они"
      ],
      "id": "quiet-complement"
    },
    {
      "cell_type": "code",
      "metadata": {
        "id": "french-fighter"
      },
      "source": [
        "a = np.random.randint(0,2,5)\n",
        "print(a)\n",
        "b = np.random.randint(0,2,5)\n",
        "print(b)\n",
        "equal = \n",
        "equal"
      ],
      "id": "french-fighter",
      "execution_count": null,
      "outputs": []
    },
    {
      "cell_type": "markdown",
      "metadata": {
        "id": "color-amplifier"
      },
      "source": [
        "14. Задание\n",
        "- сгенерируйте матрицу случайного размера:\n",
        " - строк от 3 до 7\n",
        " - столбцов от 2 до 12\n",
        "- сгенерируйте число N - размер выборки так, чтобы оно не превышало половину количества элементов сгенерированной матрицы, но было больше 0\n",
        "- сделайте случайную выборку N элементов"
      ],
      "id": "color-amplifier"
    },
    {
      "cell_type": "code",
      "metadata": {
        "id": "close-daisy"
      },
      "source": [
        "r, c = \n",
        "a = \n",
        "print(a)\n",
        "N = \n",
        "print(N)\n",
        "sample = \n",
        "print(sample)"
      ],
      "id": "close-daisy",
      "execution_count": null,
      "outputs": []
    },
    {
      "cell_type": "markdown",
      "metadata": {
        "id": "patent-african"
      },
      "source": [
        "15. Задание\n",
        "- дан вектор, проверить есть в нем Nan\n",
        "- проверить есть в нем знак бесконечности\n",
        "- заполнить их нулями"
      ],
      "id": "patent-african"
    },
    {
      "cell_type": "code",
      "metadata": {
        "id": "taken-fabric"
      },
      "source": [
        "a = np.array([1, np.NaN, np.Inf], float)\n",
        "\n",
        "\n",
        "a"
      ],
      "id": "taken-fabric",
      "execution_count": null,
      "outputs": []
    },
    {
      "cell_type": "markdown",
      "metadata": {
        "id": "analyzed-ireland"
      },
      "source": [
        "16. Задание\n",
        "- сгенерировать массив с произвольным числом осей\n",
        "- определить сколько у него осей"
      ],
      "id": "analyzed-ireland"
    },
    {
      "cell_type": "code",
      "metadata": {
        "id": "imposed-digest"
      },
      "source": [
        "axis = \n",
        "print(axis)\n",
        "matrix = \n",
        "print(...)"
      ],
      "id": "imposed-digest",
      "execution_count": null,
      "outputs": []
    },
    {
      "cell_type": "markdown",
      "metadata": {
        "id": "regulation-colleague"
      },
      "source": [
        "17. Задание\n",
        "- сгенерируйте матрицу 10 на 3 с нормальным распределением, среднее 50, стандартное отклонение 10\n",
        "- найдите индексы максимальных элементов в каждой строке\n",
        "- найдите сами элементы"
      ],
      "id": "regulation-colleague"
    },
    {
      "cell_type": "code",
      "metadata": {
        "id": "concerned-anthropology"
      },
      "source": [
        "matrix = np.random.normal(50, 10, (10,3))\n",
        "print(matrix)\n",
        "indexes = \n",
        "print(indexes)\n",
        "print(...)"
      ],
      "id": "concerned-anthropology",
      "execution_count": null,
      "outputs": []
    },
    {
      "cell_type": "markdown",
      "source": [
        "18. Задача на теорию вероятности. Реализовать решение методом Монте-Карло"
      ],
      "metadata": {
        "id": "7UjdpXVukzPG"
      },
      "id": "7UjdpXVukzPG"
    },
    {
      "cell_type": "markdown",
      "source": [
        "1. Бросаем два игральных кубика: красный и синий. Определите вероятность того, что цифры на красном и синем кубиках совпадут.\n",
        "2. В этом же эксперименте с кубиками нужно найти наиболее вероятную сумму цифр на кубиках.\n",
        "3. Наудачу выбирается одно число от 1 до 20. Считая все числа равновозможными, определите вероятность того, что выбранное число:\n",
        "* чётно;\n",
        "* делится на 3;\n",
        "* делится и на 2, и на 3;\n",
        "* не делится ни на 2, ни на 3;\n",
        "* имеет сумму цифр 9;\n",
        "* имеет сумму цифр, делящуюся на 3."
      ],
      "metadata": {
        "id": "Ep-CKckAk5V_"
      },
      "id": "Ep-CKckAk5V_"
    }
  ]
}